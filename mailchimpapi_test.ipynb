{
  "nbformat": 4,
  "nbformat_minor": 0,
  "metadata": {
    "colab": {
      "name": "mailchimpapi test.ipynb",
      "provenance": [],
      "collapsed_sections": []
    },
    "kernelspec": {
      "name": "python3",
      "display_name": "Python 3"
    },
    "language_info": {
      "name": "python"
    }
  },
  "cells": [
    {
      "cell_type": "code",
      "execution_count": null,
      "metadata": {
        "colab": {
          "base_uri": "https://localhost:8080/"
        },
        "id": "_AR_cJdy-7tr",
        "outputId": "fa8ffd32-11de-4397-bcdf-829251b3d131"
      },
      "outputs": [
        {
          "output_type": "stream",
          "name": "stdout",
          "text": [
            "Collecting mailchimp3\n",
            "  Downloading mailchimp3-3.0.17-py2.py3-none-any.whl (94 kB)\n",
            "\u001b[?25l\r\u001b[K     |███▌                            | 10 kB 19.7 MB/s eta 0:00:01\r\u001b[K     |███████                         | 20 kB 26.2 MB/s eta 0:00:01\r\u001b[K     |██████████▍                     | 30 kB 16.2 MB/s eta 0:00:01\r\u001b[K     |██████████████                  | 40 kB 11.8 MB/s eta 0:00:01\r\u001b[K     |█████████████████▍              | 51 kB 7.8 MB/s eta 0:00:01\r\u001b[K     |████████████████████▉           | 61 kB 8.2 MB/s eta 0:00:01\r\u001b[K     |████████████████████████▎       | 71 kB 7.2 MB/s eta 0:00:01\r\u001b[K     |███████████████████████████▉    | 81 kB 8.0 MB/s eta 0:00:01\r\u001b[K     |███████████████████████████████▎| 92 kB 8.5 MB/s eta 0:00:01\r\u001b[K     |████████████████████████████████| 94 kB 2.3 MB/s \n",
            "\u001b[?25hRequirement already satisfied: requests>=2.7.0 in /usr/local/lib/python3.7/dist-packages (from mailchimp3) (2.23.0)\n",
            "Requirement already satisfied: certifi>=2017.4.17 in /usr/local/lib/python3.7/dist-packages (from requests>=2.7.0->mailchimp3) (2021.10.8)\n",
            "Requirement already satisfied: urllib3!=1.25.0,!=1.25.1,<1.26,>=1.21.1 in /usr/local/lib/python3.7/dist-packages (from requests>=2.7.0->mailchimp3) (1.24.3)\n",
            "Requirement already satisfied: idna<3,>=2.5 in /usr/local/lib/python3.7/dist-packages (from requests>=2.7.0->mailchimp3) (2.10)\n",
            "Requirement already satisfied: chardet<4,>=3.0.2 in /usr/local/lib/python3.7/dist-packages (from requests>=2.7.0->mailchimp3) (3.0.4)\n",
            "Installing collected packages: mailchimp3\n",
            "Successfully installed mailchimp3-3.0.17\n"
          ]
        }
      ],
      "source": [
        "pip install mailchimp3\n"
      ]
    },
    {
      "cell_type": "code",
      "source": [
        "from mailchimp3 import MailChimp"
      ],
      "metadata": {
        "id": "pCKgq_buACF7"
      },
      "execution_count": null,
      "outputs": []
    },
    {
      "cell_type": "code",
      "source": [
        "MAILCHIMP_API_KEY = \"2c9543a791c076d4bb50b1a2981b9ef2-us14\"\n",
        "MAILCHIMP_DATA_CENTER = \"us14\"\n",
        "MAILCHIMP_EMAIL_LIST_ID = \"da01c24f8b\"\n",
        "USERNAME='sajanrai12'\n",
        "SUBJECT = 'test'\n",
        "REPLY= 'rai4072@gmail.com'\n",
        "FROM= 'sajan'\n",
        "FROME= 'rai4072@gmail.com'"
      ],
      "metadata": {
        "id": "Zb_AXD2saxDA"
      },
      "execution_count": null,
      "outputs": []
    },
    {
      "cell_type": "code",
      "source": [
        "client=MailChimp(mc_api=MAILCHIMP_API_KEY, mc_user=USERNAME)"
      ],
      "metadata": {
        "id": "oXxUsI0dAdBf"
      },
      "execution_count": null,
      "outputs": []
    },
    {
      "cell_type": "code",
      "source": [
        "previous_campaign=client.campaigns.all(get_all=True)"
      ],
      "metadata": {
        "id": "OunLXtc0brjB"
      },
      "execution_count": null,
      "outputs": []
    },
    {
      "cell_type": "code",
      "source": [
        "print(type(previous_campaign))"
      ],
      "metadata": {
        "colab": {
          "base_uri": "https://localhost:8080/"
        },
        "id": "TTFG4nxJcfkJ",
        "outputId": "f9d89e56-62c8-41f1-e96c-61c4bcce9a8d"
      },
      "execution_count": null,
      "outputs": [
        {
          "output_type": "stream",
          "name": "stdout",
          "text": [
            "<class 'dict'>\n"
          ]
        }
      ]
    },
    {
      "cell_type": "code",
      "source": [
        "print(previous_campaign)"
      ],
      "metadata": {
        "colab": {
          "base_uri": "https://localhost:8080/"
        },
        "id": "WrmXYCSNdk6S",
        "outputId": "64bfce64-c717-472d-cd4f-a3caf5d1006d"
      },
      "execution_count": null,
      "outputs": [
        {
          "output_type": "stream",
          "name": "stdout",
          "text": [
            "{'campaigns': [{'id': '7361f43f63', 'web_id': 8980861, 'type': 'regular', 'create_time': '2022-02-15T08:01:17+00:00', 'archive_url': 'http://eepurl.com/hULOx5', 'long_archive_url': 'https://us14.campaign-archive.com/?u=5c91b1b221a430fa8ae12ce26&id=7361f43f63', 'status': 'sent', 'emails_sent': 2, 'send_time': '2022-02-15T08:01:21+00:00', 'content_type': 'html', 'needs_block_refresh': False, 'resendable': True, 'recipients': {'list_id': 'da01c24f8b', 'list_is_active': True, 'list_name': 'ARK', 'segment_text': '', 'recipient_count': 2}, 'settings': {'subject_line': 'test', 'title': '', 'from_name': 'sajan', 'reply_to': 'rai4072@gmail.com', 'use_conversation': False, 'to_name': '', 'folder_id': '', 'authenticate': True, 'auto_footer': False, 'inline_css': False, 'auto_tweet': False, 'fb_comments': True, 'timewarp': False, 'template_id': 0, 'drag_and_drop': False}, 'tracking': {'opens': True, 'html_clicks': True, 'text_clicks': False, 'goal_tracking': False, 'ecomm360': False, 'google_analytics': '', 'clicktale': ''}, 'report_summary': {'opens': 0, 'unique_opens': 0, 'open_rate': 0, 'clicks': 0, 'subscriber_clicks': 0, 'click_rate': 0, 'ecommerce': {'total_orders': 0, 'total_spent': 0, 'total_revenue': 0}}, 'delivery_status': {'enabled': False}, '_links': [{'rel': 'parent', 'href': 'https://us14.api.mailchimp.com/3.0/campaigns', 'method': 'GET', 'targetSchema': 'https://us14.api.mailchimp.com/schema/3.0/Definitions/Campaigns/CollectionResponse.json', 'schema': 'https://us14.api.mailchimp.com/schema/3.0/Paths/Campaigns/Collection.json'}, {'rel': 'self', 'href': 'https://us14.api.mailchimp.com/3.0/campaigns/7361f43f63', 'method': 'GET', 'targetSchema': 'https://us14.api.mailchimp.com/schema/3.0/Definitions/Campaigns/Response.json'}, {'rel': 'delete', 'href': 'https://us14.api.mailchimp.com/3.0/campaigns/7361f43f63', 'method': 'DELETE'}, {'rel': 'send', 'href': 'https://us14.api.mailchimp.com/3.0/campaigns/7361f43f63/actions/send', 'method': 'POST'}, {'rel': 'cancel_send', 'href': 'https://us14.api.mailchimp.com/3.0/campaigns/7361f43f63/actions/cancel-send', 'method': 'POST'}, {'rel': 'feedback', 'href': 'https://us14.api.mailchimp.com/3.0/campaigns/7361f43f63/feedback', 'method': 'GET', 'targetSchema': 'https://us14.api.mailchimp.com/schema/3.0/Definitions/Campaigns/Feedback/CollectionResponse.json'}, {'rel': 'content', 'href': 'https://us14.api.mailchimp.com/3.0/campaigns/7361f43f63/content', 'method': 'GET', 'targetSchema': 'https://us14.api.mailchimp.com/schema/3.0/Definitions/Campaigns/Content/Response.json'}, {'rel': 'send_checklist', 'href': 'https://us14.api.mailchimp.com/3.0/campaigns/7361f43f63/send-checklist', 'method': 'GET', 'targetSchema': 'https://us14.api.mailchimp.com/schema/3.0/Definitions/Campaigns/Checklist/Response.json'}, {'rel': 'pause', 'href': 'https://us14.api.mailchimp.com/3.0/campaigns/7361f43f63/actions/pause', 'method': 'POST'}, {'rel': 'resume', 'href': 'https://us14.api.mailchimp.com/3.0/campaigns/7361f43f63/actions/resume', 'method': 'POST'}, {'rel': 'replicate', 'href': 'https://us14.api.mailchimp.com/3.0/campaigns/7361f43f63/actions/replicate', 'method': 'POST'}, {'rel': 'create_resend', 'href': 'https://us14.api.mailchimp.com/3.0/campaigns/7361f43f63/actions/create-resend', 'method': 'POST'}]}], 'total_items': 1, '_links': [{'rel': 'self', 'href': 'https://us14.api.mailchimp.com/3.0/campaigns', 'method': 'GET', 'targetSchema': 'https://us14.api.mailchimp.com/schema/3.0/Definitions/Campaigns/CollectionResponse.json', 'schema': 'https://us14.api.mailchimp.com/schema/3.0/Paths/Campaigns/Collection.json'}, {'rel': 'create', 'href': 'https://us14.api.mailchimp.com/3.0/campaigns', 'method': 'POST', 'targetSchema': 'https://us14.api.mailchimp.com/schema/3.0/Definitions/Campaigns/Response.json', 'schema': 'https://us14.api.mailchimp.com/schema/3.0/Definitions/Campaigns/POST.json'}]}\n"
          ]
        }
      ]
    },
    {
      "cell_type": "code",
      "source": [
        "print(previous_campaign.get('campaigns')[0].get('id'))"
      ],
      "metadata": {
        "colab": {
          "base_uri": "https://localhost:8080/"
        },
        "id": "7wVLpDaqhgJW",
        "outputId": "b63055a6-a0d7-47de-82b9-591473ef1cfe"
      },
      "execution_count": null,
      "outputs": [
        {
          "output_type": "stream",
          "name": "stdout",
          "text": [
            "7361f43f63\n"
          ]
        }
      ]
    }
  ]
}